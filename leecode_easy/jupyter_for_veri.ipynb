{
 "cells": [
  {
   "cell_type": "code",
   "execution_count": null,
   "id": "5f2b93b3",
   "metadata": {},
   "outputs": [],
   "source": [
    "Input: nums = [2,7,11,15], target = 9\n",
    "output: [0,1]\n",
    "#迴圈從第一個"
   ]
  },
  {
   "cell_type": "code",
   "execution_count": 2,
   "id": "58e75fc3",
   "metadata": {},
   "outputs": [],
   "source": [
    "nums = [2,7,11,15]\n",
    "target = 9"
   ]
  },
  {
   "cell_type": "code",
   "execution_count": 10,
   "id": "a13e08c6",
   "metadata": {},
   "outputs": [
    {
     "name": "stdout",
     "output_type": "stream",
     "text": [
      "0 2\n",
      "1 7\n",
      "2 11\n",
      "3 15\n"
     ]
    }
   ],
   "source": [
    "for i,num in enumerate(nums):\n",
    "    print(i,num)"
   ]
  },
  {
   "cell_type": "code",
   "execution_count": null,
   "id": "d12a0b9d",
   "metadata": {},
   "outputs": [],
   "source": [
    "class Solution(object):\n",
    "    def twoSum(self, nums, target):\n",
    "        \"\"\"\n",
    "        :type nums: List[int]\n",
    "        :type target: int\n",
    "        :rtype: List[int]\n",
    "        \"\"\"\n",
    "\n"
   ]
  },
  {
   "cell_type": "code",
   "execution_count": 13,
   "id": "cea6c01d",
   "metadata": {},
   "outputs": [],
   "source": [
    "class Solution(object):\n",
    "    def twoSum(self, nums, target):\n",
    "        \"\"\"\n",
    "        :type nums: List[int]\n",
    "        :type target: int\n",
    "        :rtype: List[int]\n",
    "        \"\"\"\n",
    "\n",
    "\n",
    "        empty_dict = {}\n",
    "        for i,num in enumerate(nums):\n",
    "            residual_num = target - num\n",
    "            if residual_num in empty_dict:\n",
    "                return [empty_dict[residual_num],i]\n",
    "            else:\n",
    "                empty_dict[num] = i"
   ]
  },
  {
   "cell_type": "code",
   "execution_count": 14,
   "id": "8c5e9660",
   "metadata": {},
   "outputs": [
    {
     "data": {
      "text/plain": [
       "[1, 3]"
      ]
     },
     "execution_count": 14,
     "metadata": {},
     "output_type": "execute_result"
    }
   ],
   "source": [
    "a = Solution()\n",
    "a.twoSum([3,4,5,9],13)"
   ]
  },
  {
   "cell_type": "code",
   "execution_count": null,
   "id": "cad61711",
   "metadata": {},
   "outputs": [],
   "source": []
  }
 ],
 "metadata": {
  "kernelspec": {
   "display_name": "Python 3",
   "language": "python",
   "name": "python3"
  },
  "language_info": {
   "codemirror_mode": {
    "name": "ipython",
    "version": 3
   },
   "file_extension": ".py",
   "mimetype": "text/x-python",
   "name": "python",
   "nbconvert_exporter": "python",
   "pygments_lexer": "ipython3",
   "version": "3.11.7"
  }
 },
 "nbformat": 4,
 "nbformat_minor": 5
}
